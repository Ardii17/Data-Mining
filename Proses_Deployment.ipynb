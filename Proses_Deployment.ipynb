{
  "cells": [
    {
      "cell_type": "markdown",
      "id": "R52QVr56LBTT",
      "metadata": {
        "id": "R52QVr56LBTT"
      },
      "source": []
    },
    {
      "cell_type": "code",
      "execution_count": 25,
      "id": "6017b88e",
      "metadata": {
        "colab": {
          "base_uri": "https://localhost:8080/"
        },
        "id": "6017b88e",
        "outputId": "9b1e4f33-0d5c-417d-86c6-23051915c321"
      },
      "outputs": [
        {
          "name": "stdout",
          "output_type": "stream",
          "text": [
            "Requirement already satisfied: streamlit in /usr/local/lib/python3.11/dist-packages (1.46.0)\n",
            "Requirement already satisfied: altair<6,>=4.0 in /usr/local/lib/python3.11/dist-packages (from streamlit) (5.5.0)\n",
            "Requirement already satisfied: blinker<2,>=1.5.0 in /usr/local/lib/python3.11/dist-packages (from streamlit) (1.9.0)\n",
            "Requirement already satisfied: cachetools<7,>=4.0 in /usr/local/lib/python3.11/dist-packages (from streamlit) (5.5.2)\n",
            "Requirement already satisfied: click<9,>=7.0 in /usr/local/lib/python3.11/dist-packages (from streamlit) (8.2.1)\n",
            "Requirement already satisfied: numpy<3,>=1.23 in /usr/local/lib/python3.11/dist-packages (from streamlit) (2.0.2)\n",
            "Requirement already satisfied: packaging<26,>=20 in /usr/local/lib/python3.11/dist-packages (from streamlit) (24.2)\n",
            "Requirement already satisfied: pandas<3,>=1.4.0 in /usr/local/lib/python3.11/dist-packages (from streamlit) (2.2.2)\n",
            "Requirement already satisfied: pillow<12,>=7.1.0 in /usr/local/lib/python3.11/dist-packages (from streamlit) (11.2.1)\n",
            "Requirement already satisfied: protobuf<7,>=3.20 in /usr/local/lib/python3.11/dist-packages (from streamlit) (5.29.5)\n",
            "Requirement already satisfied: pyarrow>=7.0 in /usr/local/lib/python3.11/dist-packages (from streamlit) (18.1.0)\n",
            "Requirement already satisfied: requests<3,>=2.27 in /usr/local/lib/python3.11/dist-packages (from streamlit) (2.32.3)\n",
            "Requirement already satisfied: tenacity<10,>=8.1.0 in /usr/local/lib/python3.11/dist-packages (from streamlit) (9.1.2)\n",
            "Requirement already satisfied: toml<2,>=0.10.1 in /usr/local/lib/python3.11/dist-packages (from streamlit) (0.10.2)\n",
            "Requirement already satisfied: typing-extensions<5,>=4.4.0 in /usr/local/lib/python3.11/dist-packages (from streamlit) (4.14.0)\n",
            "Requirement already satisfied: watchdog<7,>=2.1.5 in /usr/local/lib/python3.11/dist-packages (from streamlit) (6.0.0)\n",
            "Requirement already satisfied: gitpython!=3.1.19,<4,>=3.0.7 in /usr/local/lib/python3.11/dist-packages (from streamlit) (3.1.44)\n",
            "Requirement already satisfied: pydeck<1,>=0.8.0b4 in /usr/local/lib/python3.11/dist-packages (from streamlit) (0.9.1)\n",
            "Requirement already satisfied: tornado!=6.5.0,<7,>=6.0.3 in /usr/local/lib/python3.11/dist-packages (from streamlit) (6.4.2)\n",
            "Requirement already satisfied: jinja2 in /usr/local/lib/python3.11/dist-packages (from altair<6,>=4.0->streamlit) (3.1.6)\n",
            "Requirement already satisfied: jsonschema>=3.0 in /usr/local/lib/python3.11/dist-packages (from altair<6,>=4.0->streamlit) (4.24.0)\n",
            "Requirement already satisfied: narwhals>=1.14.2 in /usr/local/lib/python3.11/dist-packages (from altair<6,>=4.0->streamlit) (1.43.0)\n",
            "Requirement already satisfied: gitdb<5,>=4.0.1 in /usr/local/lib/python3.11/dist-packages (from gitpython!=3.1.19,<4,>=3.0.7->streamlit) (4.0.12)\n",
            "Requirement already satisfied: python-dateutil>=2.8.2 in /usr/local/lib/python3.11/dist-packages (from pandas<3,>=1.4.0->streamlit) (2.9.0.post0)\n",
            "Requirement already satisfied: pytz>=2020.1 in /usr/local/lib/python3.11/dist-packages (from pandas<3,>=1.4.0->streamlit) (2025.2)\n",
            "Requirement already satisfied: tzdata>=2022.7 in /usr/local/lib/python3.11/dist-packages (from pandas<3,>=1.4.0->streamlit) (2025.2)\n",
            "Requirement already satisfied: charset-normalizer<4,>=2 in /usr/local/lib/python3.11/dist-packages (from requests<3,>=2.27->streamlit) (3.4.2)\n",
            "Requirement already satisfied: idna<4,>=2.5 in /usr/local/lib/python3.11/dist-packages (from requests<3,>=2.27->streamlit) (3.10)\n",
            "Requirement already satisfied: urllib3<3,>=1.21.1 in /usr/local/lib/python3.11/dist-packages (from requests<3,>=2.27->streamlit) (2.4.0)\n",
            "Requirement already satisfied: certifi>=2017.4.17 in /usr/local/lib/python3.11/dist-packages (from requests<3,>=2.27->streamlit) (2025.6.15)\n",
            "Requirement already satisfied: smmap<6,>=3.0.1 in /usr/local/lib/python3.11/dist-packages (from gitdb<5,>=4.0.1->gitpython!=3.1.19,<4,>=3.0.7->streamlit) (5.0.2)\n",
            "Requirement already satisfied: MarkupSafe>=2.0 in /usr/local/lib/python3.11/dist-packages (from jinja2->altair<6,>=4.0->streamlit) (3.0.2)\n",
            "Requirement already satisfied: attrs>=22.2.0 in /usr/local/lib/python3.11/dist-packages (from jsonschema>=3.0->altair<6,>=4.0->streamlit) (25.3.0)\n",
            "Requirement already satisfied: jsonschema-specifications>=2023.03.6 in /usr/local/lib/python3.11/dist-packages (from jsonschema>=3.0->altair<6,>=4.0->streamlit) (2025.4.1)\n",
            "Requirement already satisfied: referencing>=0.28.4 in /usr/local/lib/python3.11/dist-packages (from jsonschema>=3.0->altair<6,>=4.0->streamlit) (0.36.2)\n",
            "Requirement already satisfied: rpds-py>=0.7.1 in /usr/local/lib/python3.11/dist-packages (from jsonschema>=3.0->altair<6,>=4.0->streamlit) (0.25.1)\n",
            "Requirement already satisfied: six>=1.5 in /usr/local/lib/python3.11/dist-packages (from python-dateutil>=2.8.2->pandas<3,>=1.4.0->streamlit) (1.17.0)\n"
          ]
        }
      ],
      "source": [
        "!pip install streamlit"
      ]
    },
    {
      "cell_type": "code",
      "execution_count": 26,
      "id": "e28701e5",
      "metadata": {
        "colab": {
          "base_uri": "https://localhost:8080/"
        },
        "id": "e28701e5",
        "outputId": "9b215b55-232a-4c0d-9d68-d9a8b7dd17a2"
      },
      "outputs": [
        {
          "name": "stdout",
          "output_type": "stream",
          "text": [
            "Requirement already satisfied: pyngrok in /usr/local/lib/python3.11/dist-packages (7.2.11)\n",
            "Requirement already satisfied: PyYAML>=5.1 in /usr/local/lib/python3.11/dist-packages (from pyngrok) (6.0.2)\n"
          ]
        }
      ],
      "source": [
        "!pip install pyngrok"
      ]
    },
    {
      "cell_type": "code",
      "execution_count": 27,
      "id": "08d323d8",
      "metadata": {
        "colab": {
          "base_uri": "https://localhost:8080/"
        },
        "id": "08d323d8",
        "outputId": "e56c4ed5-f49d-47dc-fa07-a781bcbb3f92"
      },
      "outputs": [
        {
          "name": "stdout",
          "output_type": "stream",
          "text": [
            "Authtoken saved to configuration file: /root/.config/ngrok/ngrok.yml\n"
          ]
        }
      ],
      "source": [
        "!ngrok config add-authtoken 2yp7RnyYpjVZpCBsmbfkSw9S6Qp_5y1juwrhBFsEmiwqvVSTa"
      ]
    },
    {
      "cell_type": "code",
      "execution_count": 28,
      "id": "724ba0af",
      "metadata": {
        "colab": {
          "base_uri": "https://localhost:8080/"
        },
        "id": "724ba0af",
        "outputId": "ec7e4937-54bb-4f9f-ccbd-27461e0d161e"
      },
      "outputs": [
        {
          "data": {
            "text/plain": [
              "0"
            ]
          },
          "execution_count": 28,
          "metadata": {},
          "output_type": "execute_result"
        }
      ],
      "source": [
        "import os\n",
        "\n",
        "os.system(\"ngrok config add-authtoken 2yp7RnyYpjVZpCBsmbfkSw9S6Qp_5y1juwrhBFsEmiwqvVSTa\")"
      ]
    },
    {
      "cell_type": "code",
      "execution_count": 29,
      "id": "daf9f7df",
      "metadata": {
        "colab": {
          "base_uri": "https://localhost:8080/"
        },
        "id": "daf9f7df",
        "outputId": "3c50ff76-dd67-405f-ae23-0ba757d02480"
      },
      "outputs": [
        {
          "name": "stdout",
          "output_type": "stream",
          "text": [
            "Writing app.py\n"
          ]
        }
      ],
      "source": [
        "%%writefile app.py\n",
        "\n",
        "import streamlit as st\n",
        "import pandas as pd\n",
        "import numpy as np\n",
        "import joblib\n",
        "\n",
        "# Load preprocessor and model\n",
        "preprocessor = joblib.load('preprocessor.pkl')\n",
        "model = joblib.load('best_model.pkl')\n",
        "\n",
        "# Helper for currency formatting\n",
        "def format_rupiah(value):\n",
        "    return f\"Rp. {value:,.2f}\".replace(\",\", \".\").replace(\".\", \",\", 1)\n",
        "\n",
        "# Prediction function\n",
        "def predict_house_price(\n",
        "    lat, long, bedrooms, bathrooms, land_size_m2, building_size_m2, carports,\n",
        "    maid_bedrooms, maid_bathrooms, floors, building_age, year_built, garages,\n",
        "    price_per_m2, total_rooms,\n",
        "    district, city, property_type, property_condition, building_orientation, furnishing, house_age_category\n",
        "):\n",
        "    # Compose input as DataFrame with correct column order\n",
        "    input_dict = {\n",
        "        'lat': [lat],\n",
        "        'long': [long],\n",
        "        'bedrooms': [bedrooms],\n",
        "        'bathrooms': [bathrooms],\n",
        "        'land_size_m2': [land_size_m2],\n",
        "        'building_size_m2': [building_size_m2],\n",
        "        'carports': [carports],\n",
        "        'maid_bedrooms': [maid_bedrooms],\n",
        "        'maid_bathrooms': [maid_bathrooms],\n",
        "        'floors': [floors],\n",
        "        'building_age': [building_age],\n",
        "        'year_built': [year_built],\n",
        "        'garages': [garages],\n",
        "        'price_per_m2': [price_per_m2],\n",
        "        'total_rooms': [total_rooms],\n",
        "        'district': [district],\n",
        "        'city': [city],\n",
        "        'property_type': [property_type],\n",
        "        'property_condition': [property_condition],\n",
        "        'building_orientation': [building_orientation],\n",
        "        'furnishing': [furnishing],\n",
        "        'house_age_category': [house_age_category]\n",
        "    }\n",
        "    input_df = pd.DataFrame(input_dict)\n",
        "    # Add dummy columns for features expected by preprocessor but not used in input\n",
        "    # (url, title, address, facilities, ads_id, certificate, electricity)\n",
        "    for col in ['url', 'title', 'address', 'facilities', 'ads_id', 'certificate', 'electricity']:\n",
        "        input_df[col] = 'unknown'\n",
        "    # Reorder columns to match training data\n",
        "    ordered_cols = [\n",
        "        'url', 'title', 'address', 'district', 'city', 'lat', 'long', 'facilities',\n",
        "        'property_type', 'ads_id', 'bedrooms', 'bathrooms', 'land_size_m2', 'building_size_m2',\n",
        "        'carports', 'certificate', 'electricity', 'maid_bedrooms', 'maid_bathrooms', 'floors',\n",
        "        'building_age', 'year_built', 'property_condition', 'building_orientation', 'garages',\n",
        "        'furnishing', 'price_per_m2', 'total_rooms', 'house_age_category'\n",
        "    ]\n",
        "    input_df = input_df[ordered_cols]\n",
        "    processed_input = preprocessor.transform(input_df)\n",
        "    predicted_price = model.predict(processed_input)[0]\n",
        "    return predicted_price\n",
        "\n",
        "def main():\n",
        "    st.set_page_config(page_title=\"Prediksi Harga Rumah Jabodetabek\", layout=\"wide\")\n",
        "    st.markdown(\"<h1 style='color:#2E86C1;'>Aplikasi Prediksi Harga Rumah Jabodetabek</h1>\", unsafe_allow_html=True)\n",
        "    st.markdown(\"\"\"\n",
        "    <div style='font-size:18px;'>\n",
        "        Masukkan detail properti rumah di bawah ini untuk memprediksi harga rumah di wilayah Jabodetabek menggunakan model machine learning terbaik.\n",
        "    </div>\n",
        "    \"\"\", unsafe_allow_html=True)\n",
        "    st.markdown(\"---\")\n",
        "\n",
        "    # Static metrics (from notebook, Gradient Boosting)\n",
        "    st.info(\"**Performa Model (Gradient Boosting):**  \\n\"\n",
        "            \"RMSE: Rp. 3.077.916.144,00  \\n\"\n",
        "            \"MAE: Rp. 750.686.158,00  \\n\"\n",
        "            \"R2 Score: 0.8701\")\n",
        "\n",
        "    st.subheader(\"Prediksi Harga Rumah\")\n",
        "\n",
        "    # Example options for selectbox (from dataset, can be expanded)\n",
        "    district_options = [\n",
        "        \"Summarecon Bekasi\", \"Mustikajaya\", \"Pondok Ungu\", \"Pondok Indah\", \"Ciparigi\", \"Parung\", \"Sentul City\",\n",
        "        \"Sutera Onix Alam Sutera\", \"Sindang Jaya\", \"Jombang\", \"Lengkong Kulon\", \"BSD Provance Parkland\", \"Sudimara\"\n",
        "    ]\n",
        "    city_options = [\n",
        "        \"Bekasi\", \"Tangerang\", \"Jakarta Selatan\", \"Bogor\"\n",
        "    ]\n",
        "    property_type_options = [\n",
        "        \"rumah\"\n",
        "    ]\n",
        "    property_condition_options = [\n",
        "        \"bagus\", \"bagus sekali\", \"baru\"\n",
        "    ]\n",
        "    building_orientation_options = [\n",
        "        \"selatan\", \"utara\", \"timur\", \"barat\"\n",
        "    ]\n",
        "    furnishing_options = [\n",
        "        \"unfurnished\", \"semi furnished\", \"furnished\"\n",
        "    ]\n",
        "    house_age_category_options = [\n",
        "        \"baru\", \"sedang\", \"lama\"\n",
        "    ]\n",
        "\n",
        "    col1, col2 = st.columns(2)\n",
        "    with col1:\n",
        "        lat = st.number_input(\"Latitude\", value=-6.2, format=\"%.6f\")\n",
        "        long = st.number_input(\"Longitude\", value=106.8, format=\"%.6f\")\n",
        "        bedrooms = st.number_input(\"Jumlah Kamar Tidur\", min_value=1, max_value=10, value=3)\n",
        "        bathrooms = st.number_input(\"Jumlah Kamar Mandi\", min_value=1, max_value=10, value=2)\n",
        "        land_size_m2 = st.number_input(\"Luas Tanah (m2)\", min_value=10.0, max_value=2000.0, value=100.0)\n",
        "        building_size_m2 = st.number_input(\"Luas Bangunan (m2)\", min_value=10.0, max_value=2000.0, value=80.0)\n",
        "        carports = st.number_input(\"Jumlah Carport\", min_value=0, max_value=5, value=1)\n",
        "        maid_bedrooms = st.number_input(\"Jumlah Kamar ART\", min_value=0, max_value=5, value=0)\n",
        "    with col2:\n",
        "        maid_bathrooms = st.number_input(\"Jumlah KM ART\", min_value=0, max_value=5, value=0)\n",
        "        floors = st.number_input(\"Jumlah Lantai\", min_value=1, max_value=5, value=2)\n",
        "        building_age = st.number_input(\"Usia Bangunan (tahun)\", min_value=0, max_value=100, value=1)\n",
        "        year_built = st.number_input(\"Tahun Dibangun\", min_value=1900, max_value=2100, value=2021)\n",
        "        garages = st.number_input(\"Jumlah Garasi\", min_value=0, max_value=5, value=0)\n",
        "        price_per_m2 = st.number_input(\"Harga per m2\", min_value=1000000.0, max_value=1e8, value=1e7, step=1e6, format=\"%.0f\")\n",
        "        total_rooms = st.number_input(\"Total Ruangan\", min_value=1, max_value=30, value=5)\n",
        "\n",
        "    st.markdown(\"### Fitur Kategorikal\")\n",
        "    col3, col4, col5 = st.columns(3)\n",
        "    with col3:\n",
        "        district = st.selectbox(\"Kecamatan/Distrik\", district_options)\n",
        "        city = st.selectbox(\"Kota\", city_options)\n",
        "    with col4:\n",
        "        property_type = st.selectbox(\"Tipe Properti\", property_type_options)\n",
        "        property_condition = st.selectbox(\"Kondisi Properti\", property_condition_options)\n",
        "    with col5:\n",
        "        building_orientation = st.selectbox(\"Arah Bangunan\", building_orientation_options)\n",
        "        furnishing = st.selectbox(\"Furnishing\", furnishing_options)\n",
        "        house_age_category = st.selectbox(\"Kategori Usia Rumah\", house_age_category_options)\n",
        "\n",
        "    if st.button(\"Prediksi Harga Rumah\"):\n",
        "        pred = predict_house_price(\n",
        "            lat, long, bedrooms, bathrooms, land_size_m2, building_size_m2, carports,\n",
        "            maid_bedrooms, maid_bathrooms, floors, building_age, year_built, garages,\n",
        "            price_per_m2, total_rooms,\n",
        "            district, city, property_type, property_condition, building_orientation, furnishing, house_age_category\n",
        "        )\n",
        "        st.success(f\"Prediksi Harga Rumah: {format_rupiah(pred)}\")\n",
        "\n",
        "if __name__ == '__main__':\n",
        "    main()"
      ]
    },
    {
      "cell_type": "code",
      "execution_count": 31,
      "id": "867ebfa6",
      "metadata": {
        "colab": {
          "base_uri": "https://localhost:8080/"
        },
        "id": "867ebfa6",
        "outputId": "f0edad91-e31e-4164-93a8-5d1329484ec3"
      },
      "outputs": [
        {
          "name": "stdout",
          "output_type": "stream",
          "text": [
            "Streamlit app is live at: NgrokTunnel: \"https://cfa7-34-75-167-63.ngrok-free.app\" -> \"http://localhost:8501\"\n"
          ]
        }
      ],
      "source": [
        "from pyngrok import ngrok\n",
        "import threading\n",
        "import os\n",
        "\n",
        "ngrok.kill()\n",
        "\n",
        "def run_streamlit():\n",
        "    os.system(\"streamlit run app.py --server.port 8501\")\n",
        "\n",
        "# Jalankan Streamlit di thread terpisah\n",
        "thread = threading.Thread(target=run_streamlit)\n",
        "thread.start()\n",
        "\n",
        "# Ekspos Streamlit ke internet menggunakan Ngrok\n",
        "public_url = ngrok.connect(addr=\"8501\")\n",
        "print(f\"Streamlit app is live at: {public_url}\")"
      ]
    }
  ],
  "metadata": {
    "colab": {
      "provenance": []
    },
    "kernelspec": {
      "display_name": "Python 3",
      "language": "python",
      "name": "python3"
    },
    "language_info": {
      "codemirror_mode": {
        "name": "ipython",
        "version": 3
      },
      "file_extension": ".py",
      "mimetype": "text/x-python",
      "name": "python",
      "nbconvert_exporter": "python",
      "pygments_lexer": "ipython3",
      "version": "3.12.3"
    }
  },
  "nbformat": 4,
  "nbformat_minor": 5
}
